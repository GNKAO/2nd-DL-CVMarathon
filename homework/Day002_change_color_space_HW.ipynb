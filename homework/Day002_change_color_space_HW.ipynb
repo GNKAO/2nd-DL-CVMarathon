import cv2 
import numpy as ny
img = cv2.imread('lena.png',cv2.IMREAD_COLOR)
img2 = cv2.cvtColor(img,cv2.COLOR_BGR2HSV)
img3 = cv2.cvtColor(img,cv2.COLOR_BGR2RGB)
img4 = cv2.cvtColor(img,cv2.COLOR_BGR2HLS)
img5 = cv2.cvtColor(img,cv2.COLOR_BGR2LAB)
cv2.imshow("lena",img)
cv2.imshow("lena HSV",img2)
cv2.imshow("lena RGB",img3)
cv2.imshow("lena HSL",img4)
cv2.imshow("lena LAB",img5)
cv2.waitKey(0)
cv2.destroyAllWindows()

